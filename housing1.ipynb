{
  "nbformat": 4,
  "nbformat_minor": 0,
  "metadata": {
    "colab": {
      "name": "housing1.ipynb",
      "provenance": [],
      "collapsed_sections": []
    },
    "kernelspec": {
      "name": "python3",
      "display_name": "Python 3"
    }
  },
  "cells": [
    {
      "cell_type": "code",
      "metadata": {
        "id": "TGTCjKpZ4-e8"
      },
      "source": [
        "# get the data\n",
        "import os\n",
        "import tarfile\n",
        "import urllib.request\n",
        "\n",
        "\n",
        "DOWNLOAD_ROOT = 'https://raw.githubusercontent.com/ageron/handson-ml2/master/'\n",
        "HOUSING_PATH = os.path.join('datasets','housing')\n",
        "HOUSING_URL = DOWNLOAD_ROOT + \"datasets/housing/housing.tgz\"\n",
        "\n",
        "def fetch_housing_data(housing_url = HOUSING_URL,housing_path = HOUSING_PATH):\n",
        "    if not os.path.isdir(housing_path):\n",
        "        os.makedirs(housing_path)\n",
        "    tgz_path = os.path.join(housing_path, \"housing.tgz\")\n",
        "    tgz_path = os.path.join(housing_path, \"housing.tgz\")\n",
        "    urllib.request.urlretrieve(housing_url, tgz_path)\n",
        "    housing_tgz = tarfile.open(tgz_path)\n",
        "    housing_tgz.extractall(path=housing_path)\n",
        "    housing_tgz.close()"
      ],
      "execution_count": null,
      "outputs": []
    },
    {
      "cell_type": "code",
      "metadata": {
        "id": "FvfD9MnZ5Ds8"
      },
      "source": [
        "fetch_housing_data()"
      ],
      "execution_count": null,
      "outputs": []
    },
    {
      "cell_type": "code",
      "metadata": {
        "id": "K1Pj8x5M5GRi"
      },
      "source": [
        "import pandas as pd\n",
        "\n",
        "def load_housing_data(housing_path=HOUSING_PATH):\n",
        "    csv_path = os.path.join(housing_path, \"housing.csv\")\n",
        "    print('csv_path:',csv_path)\n",
        "    return pd.read_csv(csv_path)"
      ],
      "execution_count": null,
      "outputs": []
    },
    {
      "cell_type": "code",
      "metadata": {
        "id": "uFiJcTX25K2L",
        "outputId": "fd65640b-ae8e-484b-d18d-f570ddc66869",
        "colab": {
          "base_uri": "https://localhost:8080/",
          "height": 255
        }
      },
      "source": [
        "housing = load_housing_data()\n",
        "print(housing.head())\n",
        "print(housing.columns)\n",
        "print(housing.shape)"
      ],
      "execution_count": null,
      "outputs": [
        {
          "output_type": "stream",
          "text": [
            "csv_path: datasets/housing/housing.csv\n",
            "   longitude  latitude  ...  median_house_value  ocean_proximity\n",
            "0    -122.23     37.88  ...            452600.0         NEAR BAY\n",
            "1    -122.22     37.86  ...            358500.0         NEAR BAY\n",
            "2    -122.24     37.85  ...            352100.0         NEAR BAY\n",
            "3    -122.25     37.85  ...            341300.0         NEAR BAY\n",
            "4    -122.25     37.85  ...            342200.0         NEAR BAY\n",
            "\n",
            "[5 rows x 10 columns]\n",
            "Index(['longitude', 'latitude', 'housing_median_age', 'total_rooms',\n",
            "       'total_bedrooms', 'population', 'households', 'median_income',\n",
            "       'median_house_value', 'ocean_proximity'],\n",
            "      dtype='object')\n",
            "(20640, 10)\n"
          ],
          "name": "stdout"
        }
      ]
    },
    {
      "cell_type": "code",
      "metadata": {
        "id": "xfI5i-Nv5NJO",
        "outputId": "22c6b197-4e00-4406-f2a0-2c8df71b44e6",
        "colab": {
          "base_uri": "https://localhost:8080/",
          "height": 204
        }
      },
      "source": [
        "housing.dtypes"
      ],
      "execution_count": null,
      "outputs": [
        {
          "output_type": "execute_result",
          "data": {
            "text/plain": [
              "longitude             float64\n",
              "latitude              float64\n",
              "housing_median_age    float64\n",
              "total_rooms           float64\n",
              "total_bedrooms        float64\n",
              "population            float64\n",
              "households            float64\n",
              "median_income         float64\n",
              "median_house_value    float64\n",
              "ocean_proximity        object\n",
              "dtype: object"
            ]
          },
          "metadata": {
            "tags": []
          },
          "execution_count": 39
        }
      ]
    },
    {
      "cell_type": "code",
      "metadata": {
        "id": "LBc55c7G5TdV",
        "outputId": "b04c9c7b-e0b1-4468-d521-d2f7e926c352",
        "colab": {
          "base_uri": "https://localhost:8080/",
          "height": 119
        }
      },
      "source": [
        "# run hypothesis theorem\n",
        "# Null Hypothesis,no relationship between between predictors and target\n",
        "# Alternate Hypothesis :Significant relationship between predictors and target\n",
        "housing.ocean_proximity.value_counts()"
      ],
      "execution_count": null,
      "outputs": [
        {
          "output_type": "execute_result",
          "data": {
            "text/plain": [
              "<1H OCEAN     9136\n",
              "INLAND        6551\n",
              "NEAR OCEAN    2658\n",
              "NEAR BAY      2290\n",
              "ISLAND           5\n",
              "Name: ocean_proximity, dtype: int64"
            ]
          },
          "metadata": {
            "tags": []
          },
          "execution_count": 40
        }
      ]
    },
    {
      "cell_type": "code",
      "metadata": {
        "id": "JMdTdcuO54ZN"
      },
      "source": [
        "from sklearn.preprocessing import LabelEncoder\n",
        "le = LabelEncoder()\n",
        "housing['ocean_proximity']=le.fit_transform(housing['ocean_proximity'])"
      ],
      "execution_count": null,
      "outputs": []
    },
    {
      "cell_type": "code",
      "metadata": {
        "id": "rQiy5lk66ahG",
        "outputId": "23d7621c-0710-411d-f0e4-760d19fa130f",
        "colab": {
          "base_uri": "https://localhost:8080/",
          "height": 153
        }
      },
      "source": [
        "print(housing.head())"
      ],
      "execution_count": null,
      "outputs": [
        {
          "output_type": "stream",
          "text": [
            "   longitude  latitude  ...  median_house_value  ocean_proximity\n",
            "0    -122.23     37.88  ...            452600.0                3\n",
            "1    -122.22     37.86  ...            358500.0                3\n",
            "2    -122.24     37.85  ...            352100.0                3\n",
            "3    -122.25     37.85  ...            341300.0                3\n",
            "4    -122.25     37.85  ...            342200.0                3\n",
            "\n",
            "[5 rows x 10 columns]\n"
          ],
          "name": "stdout"
        }
      ]
    },
    {
      "cell_type": "code",
      "metadata": {
        "id": "VVyoiEhf6d6J",
        "outputId": "54818415-d0a3-4105-9fad-cec44c9fa6de",
        "colab": {
          "base_uri": "https://localhost:8080/",
          "height": 493
        }
      },
      "source": [
        "# run hypothesis theorem\n",
        "cols = ['longitude', 'latitude', 'housing_median_age', 'total_rooms','total_bedrooms', 'population', 'households', 'median_income','ocean_proximity']\n",
        "target = [ 'median_house_value']\n",
        "significant_cols = []\n",
        "\n",
        "from statsmodels.stats import weightstats as stests\n",
        "\n",
        "for i in cols:\n",
        "  p_val = stests.ztest(housing[i],housing['median_house_value'])\n",
        "  p = p_val[1]\n",
        "  print('columns -->',i)\n",
        "  print('p : ',p)\n",
        "  if p < 0.05:\n",
        "    status =\"Reject Null Hypothesis,Significant predictors\"\n",
        "    print(status)\n",
        "    significant_cols.append(i)\n",
        "  else:\n",
        "    status = \"Accept Null Hypothesis,Insignifiacant predictors\"\n",
        "    print(status)\n",
        "print('significant_cols:',significant_cols)"
      ],
      "execution_count": null,
      "outputs": [
        {
          "output_type": "stream",
          "text": [
            "columns --> longitude\n",
            "p :  0.0\n",
            "Reject Null Hypothesis,Significant predictors\n",
            "columns --> latitude\n",
            "p :  0.0\n",
            "Reject Null Hypothesis,Significant predictors\n",
            "columns --> housing_median_age\n",
            "p :  0.0\n",
            "Reject Null Hypothesis,Significant predictors\n",
            "columns --> total_rooms\n",
            "p :  0.0\n",
            "Reject Null Hypothesis,Significant predictors\n",
            "columns --> total_bedrooms\n",
            "p :  nan\n",
            "Accept Null Hypothesis,Insignifiacant predictors\n",
            "columns --> population\n",
            "p :  0.0\n",
            "Reject Null Hypothesis,Significant predictors\n",
            "columns --> households\n",
            "p :  0.0\n",
            "Reject Null Hypothesis,Significant predictors\n",
            "columns --> median_income\n",
            "p :  0.0\n",
            "Reject Null Hypothesis,Significant predictors\n",
            "columns --> ocean_proximity\n",
            "p :  0.0\n",
            "Reject Null Hypothesis,Significant predictors\n",
            "significant_cols: ['longitude', 'latitude', 'housing_median_age', 'total_rooms', 'population', 'households', 'median_income', 'ocean_proximity']\n"
          ],
          "name": "stdout"
        }
      ]
    },
    {
      "cell_type": "code",
      "metadata": {
        "id": "Rba6SBiP7p9v",
        "outputId": "041a8db6-9894-43f5-eb04-cf6eb1ff1756",
        "colab": {
          "base_uri": "https://localhost:8080/",
          "height": 221
        }
      },
      "source": [
        "housing.total_bedrooms.value_counts()"
      ],
      "execution_count": null,
      "outputs": [
        {
          "output_type": "execute_result",
          "data": {
            "text/plain": [
              "280.0     55\n",
              "331.0     51\n",
              "345.0     50\n",
              "393.0     49\n",
              "343.0     49\n",
              "          ..\n",
              "2205.0     1\n",
              "1448.0     1\n",
              "1691.0     1\n",
              "2537.0     1\n",
              "2546.0     1\n",
              "Name: total_bedrooms, Length: 1923, dtype: int64"
            ]
          },
          "metadata": {
            "tags": []
          },
          "execution_count": 44
        }
      ]
    },
    {
      "cell_type": "code",
      "metadata": {
        "id": "9WFCuUMZ9hqW",
        "outputId": "5f693583-977e-40a7-a13b-efdd2a54cf99",
        "colab": {
          "base_uri": "https://localhost:8080/",
          "height": 374
        }
      },
      "source": [
        "housing['total_bedrooms'].head(20)"
      ],
      "execution_count": null,
      "outputs": [
        {
          "output_type": "execute_result",
          "data": {
            "text/plain": [
              "0      129.0\n",
              "1     1106.0\n",
              "2      190.0\n",
              "3      235.0\n",
              "4      280.0\n",
              "5      213.0\n",
              "6      489.0\n",
              "7      687.0\n",
              "8      665.0\n",
              "9      707.0\n",
              "10     434.0\n",
              "11     752.0\n",
              "12     474.0\n",
              "13     191.0\n",
              "14     626.0\n",
              "15     283.0\n",
              "16     347.0\n",
              "17     293.0\n",
              "18     455.0\n",
              "19     298.0\n",
              "Name: total_bedrooms, dtype: float64"
            ]
          },
          "metadata": {
            "tags": []
          },
          "execution_count": 45
        }
      ]
    },
    {
      "cell_type": "code",
      "metadata": {
        "id": "b_rG0IsH-IsT",
        "outputId": "bd0b39ac-112f-4199-cd50-f9d20f23d351",
        "colab": {
          "base_uri": "https://localhost:8080/",
          "height": 170
        }
      },
      "source": [
        "# lets carryout univariate analysis\n",
        "cols\n",
        "# print(housing.longitude.unique())\n"
      ],
      "execution_count": null,
      "outputs": [
        {
          "output_type": "execute_result",
          "data": {
            "text/plain": [
              "['longitude',\n",
              " 'latitude',\n",
              " 'housing_median_age',\n",
              " 'total_rooms',\n",
              " 'total_bedrooms',\n",
              " 'population',\n",
              " 'households',\n",
              " 'median_income',\n",
              " 'ocean_proximity']"
            ]
          },
          "metadata": {
            "tags": []
          },
          "execution_count": 46
        }
      ]
    },
    {
      "cell_type": "code",
      "metadata": {
        "id": "e-1288dJ_AB9",
        "outputId": "d6ff0e5e-3dc2-469b-f848-938694aba4a1",
        "colab": {
          "base_uri": "https://localhost:8080/",
          "height": 1000
        }
      },
      "source": [
        "import matplotlib.pyplot as plt\n",
        "import seaborn as sns\n",
        "\n",
        "cols\n",
        "\n",
        "for i in cols:\n",
        "  housing.plot(kind='scatter',x=i,y='median_house_value')\n",
        "\n",
        "# for i in cols:\n",
        "#   plt.scatter(i,housing['median_house_value'])"
      ],
      "execution_count": null,
      "outputs": [
        {
          "output_type": "display_data",
          "data": {
            "image/png": "[encoded data removed]",
            "text/plain": [
              "<Figure size 432x288 with 1 Axes>"
            ]
          },
          "metadata": {
            "tags": [],
            "needs_background": "light"
          }
        },
        {
          "output_type": "display_data",
          "data": {
            "image/png": "[encoded data removed]",
            "text/plain": [
              "<Figure size 432x288 with 1 Axes>"
            ]
          },
          "metadata": {
            "tags": [],
            "needs_background": "light"
          }
        },
        {
          "output_type": "display_data",
          "data": {
            "image/png": "[encoded data removed]",
            "text/plain": [
              "<Figure size 432x288 with 1 Axes>"
            ]
          },
          "metadata": {
            "tags": [],
            "needs_background": "light"
          }
        },
        {
          "output_type": "display_data",
          "data": {
            "image/png": "[encoded data removed]",
            "text/plain": [
              "<Figure size 432x288 with 1 Axes>"
            ]
          },
          "metadata": {
            "tags": [],
            "needs_background": "light"
          }
        },
        {
          "output_type": "display_data",
          "data": {
            "image/png": "[encoded data removed]",
            "text/plain": [
              "<Figure size 432x288 with 1 Axes>"
            ]
          },
          "metadata": {
            "tags": [],
            "needs_background": "light"
          }
        },
        {
          "output_type": "display_data",
          "data": {
            "image/png": "[encoded data removed]",
            "text/plain": [
              "<Figure size 432x288 with 1 Axes>"
            ]
          },
          "metadata": {
            "tags": [],
            "needs_background": "light"
          }
        },
        {
          "output_type": "display_data",
          "data": {
            "image/png": "[encoded data removed]",
            "text/plain": [
              "<Figure size 432x288 with 1 Axes>"
            ]
          },
          "metadata": {
            "tags": [],
            "needs_background": "light"
          }
        },
        {
          "output_type": "display_data",
          "data": {
            "image/png": "[encoded data removed]",
            "text/plain": [
              "<Figure size 432x288 with 1 Axes>"
            ]
          },
          "metadata": {
            "tags": [],
            "needs_background": "light"
          }
        },
        {
          "output_type": "display_data",
          "data": {
            "image/png": "[encoded data removed]",
            "text/plain": [
              "<Figure size 432x288 with 1 Axes>"
            ]
          },
          "metadata": {
            "tags": [],
            "needs_background": "light"
          }
        }
      ]
    },
    {
      "cell_type": "code",
      "metadata": {
        "id": "fPqGNe1W_aC-",
        "outputId": "0d10bc08-f64a-4c44-b4ac-e6bda87b16d2",
        "colab": {
          "base_uri": "https://localhost:8080/",
          "height": 204
        }
      },
      "source": [
        "# towards building models:\n",
        "housing.isnull().sum()\n"
      ],
      "execution_count": null,
      "outputs": [
        {
          "output_type": "execute_result",
          "data": {
            "text/plain": [
              "longitude               0\n",
              "latitude                0\n",
              "housing_median_age      0\n",
              "total_rooms             0\n",
              "total_bedrooms        207\n",
              "population              0\n",
              "households              0\n",
              "median_income           0\n",
              "median_house_value      0\n",
              "ocean_proximity         0\n",
              "dtype: int64"
            ]
          },
          "metadata": {
            "tags": []
          },
          "execution_count": 48
        }
      ]
    },
    {
      "cell_type": "code",
      "metadata": {
        "id": "iK9EgSQIE6DF",
        "outputId": "5d3e5cec-05f6-4e95-b166-065bca58b639",
        "colab": {
          "base_uri": "https://localhost:8080/",
          "height": 238
        }
      },
      "source": [
        "print(housing.total_bedrooms.value_counts())\n",
        "print(housing.total_bedrooms.mode()[0])"
      ],
      "execution_count": null,
      "outputs": [
        {
          "output_type": "stream",
          "text": [
            "280.0     55\n",
            "331.0     51\n",
            "345.0     50\n",
            "393.0     49\n",
            "343.0     49\n",
            "          ..\n",
            "2205.0     1\n",
            "1448.0     1\n",
            "1691.0     1\n",
            "2537.0     1\n",
            "2546.0     1\n",
            "Name: total_bedrooms, Length: 1923, dtype: int64\n",
            "280.0\n"
          ],
          "name": "stdout"
        }
      ]
    },
    {
      "cell_type": "code",
      "metadata": {
        "id": "HISt20QiFAWD",
        "outputId": "02586037-6392-47c7-9f35-bd2d13831e9f",
        "colab": {
          "base_uri": "https://localhost:8080/",
          "height": 204
        }
      },
      "source": [
        "\n",
        "import numpy as np\n",
        "housing['total_bedrooms'] = housing.fillna(housing.total_bedrooms.mode()[0])\n",
        "\n",
        "housing.isnull().sum()"
      ],
      "execution_count": null,
      "outputs": [
        {
          "output_type": "execute_result",
          "data": {
            "text/plain": [
              "longitude             0\n",
              "latitude              0\n",
              "housing_median_age    0\n",
              "total_rooms           0\n",
              "total_bedrooms        0\n",
              "population            0\n",
              "households            0\n",
              "median_income         0\n",
              "median_house_value    0\n",
              "ocean_proximity       0\n",
              "dtype: int64"
            ]
          },
          "metadata": {
            "tags": []
          },
          "execution_count": 50
        }
      ]
    },
    {
      "cell_type": "code",
      "metadata": {
        "id": "gAY4v-maFp0M"
      },
      "source": [
        "X=housing[['longitude', 'latitude', 'housing_median_age', 'total_rooms',\n",
        "       'total_bedrooms', 'population', 'households', 'median_income',\n",
        "        'ocean_proximity']]\n",
        "\n",
        "y=housing['median_house_value']"
      ],
      "execution_count": null,
      "outputs": []
    },
    {
      "cell_type": "code",
      "metadata": {
        "id": "sfAFmyI9HTKg",
        "outputId": "e18177ae-40ae-4886-9f4a-9460fd0a6da4",
        "colab": {
          "base_uri": "https://localhost:8080/",
          "height": 51
        }
      },
      "source": [
        "# towards building models:\n",
        "from sklearn.model_selection import train_test_split\n",
        "X_train,X_test,y_train,y_test = train_test_split(X,y,random_state = 0,test_size = 0.2)\n",
        "\n",
        "print(len(X_train))\n",
        "print(len(X_test))"
      ],
      "execution_count": null,
      "outputs": [
        {
          "output_type": "stream",
          "text": [
            "16512\n",
            "4128\n"
          ],
          "name": "stdout"
        }
      ]
    },
    {
      "cell_type": "code",
      "metadata": {
        "id": "ZMGvkDOVHUeR",
        "outputId": "9a0dafcc-b0a7-46a2-ed14-57dc04f62844",
        "colab": {
          "base_uri": "https://localhost:8080/",
          "height": 221
        }
      },
      "source": [
        "# cross validating multiple models: and finre tuning \n",
        "\n",
        "from sklearn.linear_model import LinearRegression\n",
        "from sklearn.tree import DecisionTreeRegressor\n",
        "from sklearn import model_selection\n",
        "from numpy import abs\n",
        "from sklearn.metrics import mean_squared_error,mean_absolute_error\n",
        "from sklearn.ensemble import RandomForestRegressor\n",
        "\n",
        "models = []\n",
        "names = []\n",
        "\n",
        "models.append(('Linear Regression',LinearRegression()))\n",
        "models.append(('Decision Tree',DecisionTreeRegressor()))\n",
        "# models.append(('Random Forest',RandomForestRegressor()))\n",
        "\n",
        "for name,model in models:\n",
        "  cv_score = model_selection.cross_val_score(model,X_train,y_train,cv = 20,scoring='neg_mean_squared_error')\n",
        "  cv_score = np.sqrt(np.abs(cv_score))\n",
        "\n",
        "  # to calculate rmse\n",
        "  model.fit(X_train,y_train)\n",
        "  y_pred = model.predict(X_train)\n",
        "\n",
        "  rmse = np.sqrt(mean_squared_error(y_train,y_pred))\n",
        "  mae = mean_absolute_error(y_train,y_pred)\n",
        "  print(\"---------------------------------\")\n",
        "  print(\"name:--->>\",name)\n",
        "  print(\"----------------------------------\")\n",
        "  print(\"CV mean Score :{0},CV min:{1},CV std :{2}\".format(np.mean(cv_score),np.min(cv_score),np.std(cv_score)))\n",
        "  print('rmse:',rmse)\n",
        "  print('mae:',mae)\n",
        "\n",
        "\n"
      ],
      "execution_count": null,
      "outputs": [
        {
          "output_type": "stream",
          "text": [
            "---------------------------------\n",
            "name:--->> Linear Regression\n",
            "----------------------------------\n",
            "CV mean Score :69999.26022784715,CV min:65006.753306387494,CV std :2982.0811264808854\n",
            "rmse: 69893.69357312913\n",
            "mae: 51258.0136449951\n",
            "---------------------------------\n",
            "name:--->> Decision Tree\n",
            "----------------------------------\n",
            "CV mean Score :68645.85713513065,CV min:63999.96125569159,CV std :2756.2199467759697\n",
            "rmse: 0.0\n",
            "mae: 0.0\n"
          ],
          "name": "stdout"
        }
      ]
    },
    {
      "cell_type": "code",
      "metadata": {
        "id": "vf-dzjpzLIib",
        "outputId": "cb71601f-e0b0-4e7f-c904-9aa6663f1df0",
        "colab": {
          "base_uri": "https://localhost:8080/",
          "height": 34
        }
      },
      "source": [
        "# fine tune the model\n",
        "# \n",
        "random_forest_reg= RandomForestRegressor(n_estimators=100,random_state =42)\n",
        "random_forest_reg.fit(X_train,y_train)\n",
        "y_pred_r = random_forest_reg.predict(X_train)\n",
        "print('rmse:',np.sqrt(mean_squared_error(y_train,y_pred)))\n",
        "\n",
        "def display_scores(scores):\n",
        "    print(\"Scores:\", scores)\n",
        "    print(\"Mean:\", scores.mean())\n",
        "    print(\"Standard deviation:\", scores.std())"
      ],
      "execution_count": null,
      "outputs": [
        {
          "output_type": "stream",
          "text": [
            "rmse: 0.0\n"
          ],
          "name": "stdout"
        }
      ]
    },
    {
      "cell_type": "code",
      "metadata": {
        "id": "jdj7vgfsFedY",
        "outputId": "7ef94670-dcea-48dc-c4c7-983bb652a7f9",
        "colab": {
          "base_uri": "https://localhost:8080/",
          "height": 102
        }
      },
      "source": [
        "# fine tune the model\n",
        "forest_scores = model_selection.cross_val_score(random_forest_reg,X_train,y_train,scoring='neg_mean_squared_error',cv =10)\n",
        "forest_rmse_scores = np.sqrt(-forest_scores)\n",
        "display_scores(forest_rmse_scores)\n"
      ],
      "execution_count": null,
      "outputs": [
        {
          "output_type": "stream",
          "text": [
            "Scores: [52798.16471032 50798.57374593 50720.59543979 49155.44056372\n",
            " 53827.64433293 50984.92158532 47488.82067352 49166.61214659\n",
            " 50876.66839993 45845.27810897]\n",
            "Mean: 50166.27197070205\n",
            "Standard deviation: 2237.7504460614928\n"
          ],
          "name": "stdout"
        }
      ]
    },
    {
      "cell_type": "code",
      "metadata": {
        "id": "YlLRFnJTKL33",
        "outputId": "dd49f6d6-36bb-4641-a280-eeb21130740e",
        "colab": {
          "base_uri": "https://localhost:8080/",
          "height": 102
        }
      },
      "source": [
        "# we will go for linear reg\n",
        "lin_reg = LinearRegression()\n",
        "lin_reg.fit(X_train,y_train)\n",
        "# y_pred_lin = lin_reg.predict(X_train)\n",
        "\n",
        "lin_reg_scores =model_selection.cross_val_score(lin_reg,X_train,y_train,scoring='neg_mean_squared_error',cv=10)\n",
        "lin_reg_rmse_scores = np.sqrt(-lin_reg_scores)\n",
        "display_scores(lin_reg_rmse_scores)\n",
        "\n"
      ],
      "execution_count": null,
      "outputs": [
        {
          "output_type": "stream",
          "text": [
            "Scores: [71757.14277253 67288.37448772 71191.43854409 68513.62937977\n",
            " 74042.56681872 69768.83752308 68293.44565134 68432.24595933\n",
            " 74199.46047152 66970.45258379]\n",
            "Mean: 70045.75941918895\n",
            "Standard deviation: 2502.5574253727273\n"
          ],
          "name": "stdout"
        }
      ]
    },
    {
      "cell_type": "code",
      "metadata": {
        "id": "45GxMI9tU4sT",
        "outputId": "87175fd9-1164-44b2-b347-9539cd818d55",
        "colab": {
          "base_uri": "https://localhost:8080/",
          "height": 374
        }
      },
      "source": [
        "# then we will go for hyperparameter selection\n",
        "from sklearn.model_selection import GridSearchCV\n",
        "param_grid =[{'n_estimators':[3,10,30],'max_features':[2,4,6,8]},{'bootstrap':[False],'n_estimators':[3,10],'max_features':[2,3,4]}]\n",
        "forest_reg = RandomForestRegressor(random_state=42)\n",
        "grid_search=GridSearchCV(forest_reg,param_grid,cv=5,scoring='neg_mean_squared_error',return_train_score = True)\n",
        "grid_search.fit(X_train,y_train)"
      ],
      "execution_count": null,
      "outputs": [
        {
          "output_type": "execute_result",
          "data": {
            "text/plain": [
              "GridSearchCV(cv=5, error_score=nan,\n",
              "             estimator=RandomForestRegressor(bootstrap=True, ccp_alpha=0.0,\n",
              "                                             criterion='mse', max_depth=None,\n",
              "                                             max_features='auto',\n",
              "                                             max_leaf_nodes=None,\n",
              "                                             max_samples=None,\n",
              "                                             min_impurity_decrease=0.0,\n",
              "                                             min_impurity_split=None,\n",
              "                                             min_samples_leaf=1,\n",
              "                                             min_samples_split=2,\n",
              "                                             min_weight_fraction_leaf=0.0,\n",
              "                                             n_estimators=100, n_jobs=None,\n",
              "                                             oob_score=False, random_state=42,\n",
              "                                             verbose=0, warm_start=False),\n",
              "             iid='deprecated', n_jobs=None,\n",
              "             param_grid=[{'max_features': [2, 4, 6, 8],\n",
              "                          'n_estimators': [3, 10, 30]},\n",
              "                         {'bootstrap': [False], 'max_features': [2, 3, 4],\n",
              "                          'n_estimators': [3, 10]}],\n",
              "             pre_dispatch='2*n_jobs', refit=True, return_train_score=True,\n",
              "             scoring='neg_mean_squared_error', verbose=0)"
            ]
          },
          "metadata": {
            "tags": []
          },
          "execution_count": 63
        }
      ]
    },
    {
      "cell_type": "code",
      "metadata": {
        "id": "2XSElG8mX_TW",
        "outputId": "71c8a52c-b8b0-44fd-d006-72b82bdd5376",
        "colab": {
          "base_uri": "https://localhost:8080/",
          "height": 34
        }
      },
      "source": [
        "grid_search.best_params_"
      ],
      "execution_count": null,
      "outputs": [
        {
          "output_type": "execute_result",
          "data": {
            "text/plain": [
              "{'max_features': 4, 'n_estimators': 30}"
            ]
          },
          "metadata": {
            "tags": []
          },
          "execution_count": 64
        }
      ]
    },
    {
      "cell_type": "code",
      "metadata": {
        "id": "e4efpas3Yj-A",
        "outputId": "d1ed2661-317d-44f3-bb89-a74ff81192e1",
        "colab": {
          "base_uri": "https://localhost:8080/",
          "height": 136
        }
      },
      "source": [
        "grid_search.best_estimator_"
      ],
      "execution_count": null,
      "outputs": [
        {
          "output_type": "execute_result",
          "data": {
            "text/plain": [
              "RandomForestRegressor(bootstrap=True, ccp_alpha=0.0, criterion='mse',\n",
              "                      max_depth=None, max_features=4, max_leaf_nodes=None,\n",
              "                      max_samples=None, min_impurity_decrease=0.0,\n",
              "                      min_impurity_split=None, min_samples_leaf=1,\n",
              "                      min_samples_split=2, min_weight_fraction_leaf=0.0,\n",
              "                      n_estimators=30, n_jobs=None, oob_score=False,\n",
              "                      random_state=42, verbose=0, warm_start=False)"
            ]
          },
          "metadata": {
            "tags": []
          },
          "execution_count": 65
        }
      ]
    },
    {
      "cell_type": "code",
      "metadata": {
        "id": "xwIUjAQGZEbW",
        "outputId": "99cae9c7-e8de-4322-99c3-9209fd7d26b3",
        "colab": {
          "base_uri": "https://localhost:8080/",
          "height": 34
        }
      },
      "source": [
        "grid_search.best_score_"
      ],
      "execution_count": null,
      "outputs": [
        {
          "output_type": "execute_result",
          "data": {
            "text/plain": [
              "-2375781601.859292"
            ]
          },
          "metadata": {
            "tags": []
          },
          "execution_count": 66
        }
      ]
    },
    {
      "cell_type": "code",
      "metadata": {
        "id": "ahFethjMZIQW",
        "outputId": "9038866b-881f-4a02-a3f7-8e33d1324cac",
        "colab": {
          "base_uri": "https://localhost:8080/",
          "height": 323
        }
      },
      "source": [
        "# lets look at the best hyper parameter calculated in the process below:\n",
        "cvres = grid_search.cv_results_\n",
        "for mean_score,params in zip(cvres['mean_test_score'],cvres['params']):\n",
        "  print(np.sqrt(-mean_score),params)\n"
      ],
      "execution_count": null,
      "outputs": [
        {
          "output_type": "stream",
          "text": [
            "60589.500633784286 {'max_features': 2, 'n_estimators': 3}\n",
            "51780.05740205928 {'max_features': 2, 'n_estimators': 10}\n",
            "49469.43826189843 {'max_features': 2, 'n_estimators': 30}\n",
            "56283.079153272156 {'max_features': 4, 'n_estimators': 3}\n",
            "50458.485552265585 {'max_features': 4, 'n_estimators': 10}\n",
            "48741.99013026953 {'max_features': 4, 'n_estimators': 30}\n",
            "58269.94879518978 {'max_features': 6, 'n_estimators': 3}\n",
            "51632.40636200267 {'max_features': 6, 'n_estimators': 10}\n",
            "49736.219857369375 {'max_features': 6, 'n_estimators': 30}\n",
            "59529.511966859296 {'max_features': 8, 'n_estimators': 3}\n",
            "52993.235206283054 {'max_features': 8, 'n_estimators': 10}\n",
            "51145.56796793952 {'max_features': 8, 'n_estimators': 30}\n",
            "58163.15430077361 {'bootstrap': False, 'max_features': 2, 'n_estimators': 3}\n",
            "51039.850499750326 {'bootstrap': False, 'max_features': 2, 'n_estimators': 10}\n",
            "55944.50354282344 {'bootstrap': False, 'max_features': 3, 'n_estimators': 3}\n",
            "50480.06758143753 {'bootstrap': False, 'max_features': 3, 'n_estimators': 10}\n",
            "56457.02793341701 {'bootstrap': False, 'max_features': 4, 'n_estimators': 3}\n",
            "50683.806306615144 {'bootstrap': False, 'max_features': 4, 'n_estimators': 10}\n"
          ],
          "name": "stdout"
        }
      ]
    },
    {
      "cell_type": "code",
      "metadata": {
        "id": "8JV8uiIGZx5J",
        "outputId": "6ac26cdb-c665-4372-d28f-0fe93aec180e",
        "colab": {
          "base_uri": "https://localhost:8080/",
          "height": 1000
        }
      },
      "source": [
        "pd.DataFrame(grid_search.cv_results_)"
      ],
      "execution_count": null,
      "outputs": [
        {
          "output_type": "execute_result",
          "data": {
            "text/html": [
              "<div>\n",
              "<style scoped>\n",
              "    .dataframe tbody tr th:only-of-type {\n",
              "        vertical-align: middle;\n",
              "    }\n",
              "\n",
              "    .dataframe tbody tr th {\n",
              "        vertical-align: top;\n",
              "    }\n",
              "\n",
              "    .dataframe thead th {\n",
              "        text-align: right;\n",
              "    }\n",
              "</style>\n",
              "<table border=\"1\" class=\"dataframe\">\n",
              "  <thead>\n",
              "    <tr style=\"text-align: right;\">\n",
              "      <th></th>\n",
              "      <th>mean_fit_time</th>\n",
              "      <th>std_fit_time</th>\n",
              "      <th>mean_score_time</th>\n",
              "      <th>std_score_time</th>\n",
              "      <th>param_max_features</th>\n",
              "      <th>param_n_estimators</th>\n",
              "      <th>param_bootstrap</th>\n",
              "      <th>params</th>\n",
              "      <th>split0_test_score</th>\n",
              "      <th>split1_test_score</th>\n",
              "      <th>split2_test_score</th>\n",
              "      <th>split3_test_score</th>\n",
              "      <th>split4_test_score</th>\n",
              "      <th>mean_test_score</th>\n",
              "      <th>std_test_score</th>\n",
              "      <th>rank_test_score</th>\n",
              "      <th>split0_train_score</th>\n",
              "      <th>split1_train_score</th>\n",
              "      <th>split2_train_score</th>\n",
              "      <th>split3_train_score</th>\n",
              "      <th>split4_train_score</th>\n",
              "      <th>mean_train_score</th>\n",
              "      <th>std_train_score</th>\n",
              "    </tr>\n",
              "  </thead>\n",
              "  <tbody>\n",
              "    <tr>\n",
              "      <th>0</th>\n",
              "      <td>0.088833</td>\n",
              "      <td>0.008106</td>\n",
              "      <td>0.005852</td>\n",
              "      <td>0.000660</td>\n",
              "      <td>2</td>\n",
              "      <td>3</td>\n",
              "      <td>NaN</td>\n",
              "      <td>{'max_features': 2, 'n_estimators': 3}</td>\n",
              "      <td>-3.933460e+09</td>\n",
              "      <td>-3.536324e+09</td>\n",
              "      <td>-3.772007e+09</td>\n",
              "      <td>-3.455464e+09</td>\n",
              "      <td>-3.658183e+09</td>\n",
              "      <td>-3.671088e+09</td>\n",
              "      <td>1.696145e+08</td>\n",
              "      <td>18</td>\n",
              "      <td>-1.005304e+09</td>\n",
              "      <td>-9.663378e+08</td>\n",
              "      <td>-9.422549e+08</td>\n",
              "      <td>-9.606402e+08</td>\n",
              "      <td>-9.629595e+08</td>\n",
              "      <td>-9.674993e+08</td>\n",
              "      <td>2.066643e+07</td>\n",
              "    </tr>\n",
              "    <tr>\n",
              "      <th>1</th>\n",
              "      <td>0.268854</td>\n",
              "      <td>0.005243</td>\n",
              "      <td>0.013447</td>\n",
              "      <td>0.000298</td>\n",
              "      <td>2</td>\n",
              "      <td>10</td>\n",
              "      <td>NaN</td>\n",
              "      <td>{'max_features': 2, 'n_estimators': 10}</td>\n",
              "      <td>-2.796031e+09</td>\n",
              "      <td>-2.538782e+09</td>\n",
              "      <td>-2.899463e+09</td>\n",
              "      <td>-2.532249e+09</td>\n",
              "      <td>-2.639347e+09</td>\n",
              "      <td>-2.681174e+09</td>\n",
              "      <td>1.449451e+08</td>\n",
              "      <td>10</td>\n",
              "      <td>-5.090191e+08</td>\n",
              "      <td>-5.127345e+08</td>\n",
              "      <td>-4.967572e+08</td>\n",
              "      <td>-5.065672e+08</td>\n",
              "      <td>-5.064904e+08</td>\n",
              "      <td>-5.063137e+08</td>\n",
              "      <td>5.290898e+06</td>\n",
              "    </tr>\n",
              "    <tr>\n",
              "      <th>2</th>\n",
              "      <td>0.800386</td>\n",
              "      <td>0.005825</td>\n",
              "      <td>0.035694</td>\n",
              "      <td>0.000281</td>\n",
              "      <td>2</td>\n",
              "      <td>30</td>\n",
              "      <td>NaN</td>\n",
              "      <td>{'max_features': 2, 'n_estimators': 30}</td>\n",
              "      <td>-2.532473e+09</td>\n",
              "      <td>-2.363246e+09</td>\n",
              "      <td>-2.707788e+09</td>\n",
              "      <td>-2.264344e+09</td>\n",
              "      <td>-2.368275e+09</td>\n",
              "      <td>-2.447225e+09</td>\n",
              "      <td>1.561355e+08</td>\n",
              "      <td>2</td>\n",
              "      <td>-3.778244e+08</td>\n",
              "      <td>-3.810890e+08</td>\n",
              "      <td>-3.770904e+08</td>\n",
              "      <td>-3.904978e+08</td>\n",
              "      <td>-3.854813e+08</td>\n",
              "      <td>-3.823966e+08</td>\n",
              "      <td>5.018278e+06</td>\n",
              "    </tr>\n",
              "    <tr>\n",
              "      <th>3</th>\n",
              "      <td>0.138379</td>\n",
              "      <td>0.003915</td>\n",
              "      <td>0.005723</td>\n",
              "      <td>0.000508</td>\n",
              "      <td>4</td>\n",
              "      <td>3</td>\n",
              "      <td>NaN</td>\n",
              "      <td>{'max_features': 4, 'n_estimators': 3}</td>\n",
              "      <td>-3.366067e+09</td>\n",
              "      <td>-3.045665e+09</td>\n",
              "      <td>-3.317613e+09</td>\n",
              "      <td>-2.772161e+09</td>\n",
              "      <td>-3.337419e+09</td>\n",
              "      <td>-3.167785e+09</td>\n",
              "      <td>2.288981e+08</td>\n",
              "      <td>13</td>\n",
              "      <td>-8.557528e+08</td>\n",
              "      <td>-8.129396e+08</td>\n",
              "      <td>-8.488674e+08</td>\n",
              "      <td>-8.735392e+08</td>\n",
              "      <td>-8.609716e+08</td>\n",
              "      <td>-8.504141e+08</td>\n",
              "      <td>2.040324e+07</td>\n",
              "    </tr>\n",
              "    <tr>\n",
              "      <th>4</th>\n",
              "      <td>0.445908</td>\n",
              "      <td>0.005277</td>\n",
              "      <td>0.013489</td>\n",
              "      <td>0.000176</td>\n",
              "      <td>4</td>\n",
              "      <td>10</td>\n",
              "      <td>NaN</td>\n",
              "      <td>{'max_features': 4, 'n_estimators': 10}</td>\n",
              "      <td>-2.744444e+09</td>\n",
              "      <td>-2.449171e+09</td>\n",
              "      <td>-2.761872e+09</td>\n",
              "      <td>-2.288442e+09</td>\n",
              "      <td>-2.486365e+09</td>\n",
              "      <td>-2.546059e+09</td>\n",
              "      <td>1.817962e+08</td>\n",
              "      <td>4</td>\n",
              "      <td>-4.730321e+08</td>\n",
              "      <td>-4.614948e+08</td>\n",
              "      <td>-4.572447e+08</td>\n",
              "      <td>-4.765601e+08</td>\n",
              "      <td>-4.935044e+08</td>\n",
              "      <td>-4.723672e+08</td>\n",
              "      <td>1.274128e+07</td>\n",
              "    </tr>\n",
              "    <tr>\n",
              "      <th>5</th>\n",
              "      <td>1.343856</td>\n",
              "      <td>0.007774</td>\n",
              "      <td>0.036701</td>\n",
              "      <td>0.001003</td>\n",
              "      <td>4</td>\n",
              "      <td>30</td>\n",
              "      <td>NaN</td>\n",
              "      <td>{'max_features': 4, 'n_estimators': 30}</td>\n",
              "      <td>-2.477019e+09</td>\n",
              "      <td>-2.352691e+09</td>\n",
              "      <td>-2.638019e+09</td>\n",
              "      <td>-2.144395e+09</td>\n",
              "      <td>-2.266785e+09</td>\n",
              "      <td>-2.375782e+09</td>\n",
              "      <td>1.702767e+08</td>\n",
              "      <td>1</td>\n",
              "      <td>-3.676501e+08</td>\n",
              "      <td>-3.539712e+08</td>\n",
              "      <td>-3.550024e+08</td>\n",
              "      <td>-3.710923e+08</td>\n",
              "      <td>-3.709579e+08</td>\n",
              "      <td>-3.637348e+08</td>\n",
              "      <td>7.657929e+06</td>\n",
              "    </tr>\n",
              "    <tr>\n",
              "      <th>6</th>\n",
              "      <td>0.194430</td>\n",
              "      <td>0.004802</td>\n",
              "      <td>0.005634</td>\n",
              "      <td>0.000279</td>\n",
              "      <td>6</td>\n",
              "      <td>3</td>\n",
              "      <td>NaN</td>\n",
              "      <td>{'max_features': 6, 'n_estimators': 3}</td>\n",
              "      <td>-3.639234e+09</td>\n",
              "      <td>-3.187410e+09</td>\n",
              "      <td>-3.616487e+09</td>\n",
              "      <td>-3.292937e+09</td>\n",
              "      <td>-3.240866e+09</td>\n",
              "      <td>-3.395387e+09</td>\n",
              "      <td>1.928593e+08</td>\n",
              "      <td>16</td>\n",
              "      <td>-8.551809e+08</td>\n",
              "      <td>-8.605236e+08</td>\n",
              "      <td>-8.892021e+08</td>\n",
              "      <td>-8.695886e+08</td>\n",
              "      <td>-8.818485e+08</td>\n",
              "      <td>-8.712688e+08</td>\n",
              "      <td>1.273291e+07</td>\n",
              "    </tr>\n",
              "    <tr>\n",
              "      <th>7</th>\n",
              "      <td>0.631098</td>\n",
              "      <td>0.012629</td>\n",
              "      <td>0.013629</td>\n",
              "      <td>0.000395</td>\n",
              "      <td>6</td>\n",
              "      <td>10</td>\n",
              "      <td>NaN</td>\n",
              "      <td>{'max_features': 6, 'n_estimators': 10}</td>\n",
              "      <td>-2.846333e+09</td>\n",
              "      <td>-2.620824e+09</td>\n",
              "      <td>-2.898110e+09</td>\n",
              "      <td>-2.476827e+09</td>\n",
              "      <td>-2.487433e+09</td>\n",
              "      <td>-2.665905e+09</td>\n",
              "      <td>1.766969e+08</td>\n",
              "      <td>9</td>\n",
              "      <td>-4.808764e+08</td>\n",
              "      <td>-4.870181e+08</td>\n",
              "      <td>-4.889538e+08</td>\n",
              "      <td>-4.881432e+08</td>\n",
              "      <td>-4.964615e+08</td>\n",
              "      <td>-4.882906e+08</td>\n",
              "      <td>4.976238e+06</td>\n",
              "    </tr>\n",
              "    <tr>\n",
              "      <th>8</th>\n",
              "      <td>1.889844</td>\n",
              "      <td>0.011712</td>\n",
              "      <td>0.036470</td>\n",
              "      <td>0.000946</td>\n",
              "      <td>6</td>\n",
              "      <td>30</td>\n",
              "      <td>NaN</td>\n",
              "      <td>{'max_features': 6, 'n_estimators': 30}</td>\n",
              "      <td>-2.657738e+09</td>\n",
              "      <td>-2.421881e+09</td>\n",
              "      <td>-2.725161e+09</td>\n",
              "      <td>-2.242091e+09</td>\n",
              "      <td>-2.321586e+09</td>\n",
              "      <td>-2.473692e+09</td>\n",
              "      <td>1.879198e+08</td>\n",
              "      <td>3</td>\n",
              "      <td>-3.696703e+08</td>\n",
              "      <td>-3.682553e+08</td>\n",
              "      <td>-3.693942e+08</td>\n",
              "      <td>-3.756335e+08</td>\n",
              "      <td>-3.810932e+08</td>\n",
              "      <td>-3.728093e+08</td>\n",
              "      <td>4.875546e+06</td>\n",
              "    </tr>\n",
              "    <tr>\n",
              "      <th>9</th>\n",
              "      <td>0.248374</td>\n",
              "      <td>0.003543</td>\n",
              "      <td>0.005467</td>\n",
              "      <td>0.000067</td>\n",
              "      <td>8</td>\n",
              "      <td>3</td>\n",
              "      <td>NaN</td>\n",
              "      <td>{'max_features': 8, 'n_estimators': 3}</td>\n",
              "      <td>-3.713963e+09</td>\n",
              "      <td>-3.448824e+09</td>\n",
              "      <td>-3.742232e+09</td>\n",
              "      <td>-3.395969e+09</td>\n",
              "      <td>-3.417826e+09</td>\n",
              "      <td>-3.543763e+09</td>\n",
              "      <td>1.517067e+08</td>\n",
              "      <td>17</td>\n",
              "      <td>-8.564588e+08</td>\n",
              "      <td>-8.768015e+08</td>\n",
              "      <td>-8.950509e+08</td>\n",
              "      <td>-9.516168e+08</td>\n",
              "      <td>-8.943795e+08</td>\n",
              "      <td>-8.948615e+08</td>\n",
              "      <td>3.169344e+07</td>\n",
              "    </tr>\n",
              "    <tr>\n",
              "      <th>10</th>\n",
              "      <td>0.806817</td>\n",
              "      <td>0.007128</td>\n",
              "      <td>0.013649</td>\n",
              "      <td>0.000135</td>\n",
              "      <td>8</td>\n",
              "      <td>10</td>\n",
              "      <td>NaN</td>\n",
              "      <td>{'max_features': 8, 'n_estimators': 10}</td>\n",
              "      <td>-2.939035e+09</td>\n",
              "      <td>-2.831703e+09</td>\n",
              "      <td>-3.036188e+09</td>\n",
              "      <td>-2.584468e+09</td>\n",
              "      <td>-2.650021e+09</td>\n",
              "      <td>-2.808283e+09</td>\n",
              "      <td>1.701324e+08</td>\n",
              "      <td>11</td>\n",
              "      <td>-4.995788e+08</td>\n",
              "      <td>-5.015034e+08</td>\n",
              "      <td>-5.025571e+08</td>\n",
              "      <td>-5.250223e+08</td>\n",
              "      <td>-5.057557e+08</td>\n",
              "      <td>-5.068835e+08</td>\n",
              "      <td>9.287744e+06</td>\n",
              "    </tr>\n",
              "    <tr>\n",
              "      <th>11</th>\n",
              "      <td>2.474528</td>\n",
              "      <td>0.040185</td>\n",
              "      <td>0.038994</td>\n",
              "      <td>0.002795</td>\n",
              "      <td>8</td>\n",
              "      <td>30</td>\n",
              "      <td>NaN</td>\n",
              "      <td>{'max_features': 8, 'n_estimators': 30}</td>\n",
              "      <td>-2.766944e+09</td>\n",
              "      <td>-2.607181e+09</td>\n",
              "      <td>-2.858309e+09</td>\n",
              "      <td>-2.386729e+09</td>\n",
              "      <td>-2.460183e+09</td>\n",
              "      <td>-2.615869e+09</td>\n",
              "      <td>1.779999e+08</td>\n",
              "      <td>8</td>\n",
              "      <td>-3.811437e+08</td>\n",
              "      <td>-3.808349e+08</td>\n",
              "      <td>-3.843132e+08</td>\n",
              "      <td>-4.017328e+08</td>\n",
              "      <td>-3.878935e+08</td>\n",
              "      <td>-3.871836e+08</td>\n",
              "      <td>7.709842e+06</td>\n",
              "    </tr>\n",
              "    <tr>\n",
              "      <th>12</th>\n",
              "      <td>0.132100</td>\n",
              "      <td>0.003700</td>\n",
              "      <td>0.006294</td>\n",
              "      <td>0.000315</td>\n",
              "      <td>2</td>\n",
              "      <td>3</td>\n",
              "      <td>False</td>\n",
              "      <td>{'bootstrap': False, 'max_features': 2, 'n_est...</td>\n",
              "      <td>-3.454032e+09</td>\n",
              "      <td>-3.331792e+09</td>\n",
              "      <td>-3.596109e+09</td>\n",
              "      <td>-3.225729e+09</td>\n",
              "      <td>-3.307101e+09</td>\n",
              "      <td>-3.382953e+09</td>\n",
              "      <td>1.292889e+08</td>\n",
              "      <td>15</td>\n",
              "      <td>-0.000000e+00</td>\n",
              "      <td>-0.000000e+00</td>\n",
              "      <td>-0.000000e+00</td>\n",
              "      <td>-0.000000e+00</td>\n",
              "      <td>-0.000000e+00</td>\n",
              "      <td>0.000000e+00</td>\n",
              "      <td>0.000000e+00</td>\n",
              "    </tr>\n",
              "    <tr>\n",
              "      <th>13</th>\n",
              "      <td>0.412953</td>\n",
              "      <td>0.004992</td>\n",
              "      <td>0.015720</td>\n",
              "      <td>0.000386</td>\n",
              "      <td>2</td>\n",
              "      <td>10</td>\n",
              "      <td>False</td>\n",
              "      <td>{'bootstrap': False, 'max_features': 2, 'n_est...</td>\n",
              "      <td>-2.724377e+09</td>\n",
              "      <td>-2.560638e+09</td>\n",
              "      <td>-2.897399e+09</td>\n",
              "      <td>-2.349464e+09</td>\n",
              "      <td>-2.493454e+09</td>\n",
              "      <td>-2.605066e+09</td>\n",
              "      <td>1.894503e+08</td>\n",
              "      <td>7</td>\n",
              "      <td>-0.000000e+00</td>\n",
              "      <td>-2.224241e+01</td>\n",
              "      <td>-3.785011e-01</td>\n",
              "      <td>-0.000000e+00</td>\n",
              "      <td>-9.462680e+02</td>\n",
              "      <td>-1.937778e+02</td>\n",
              "      <td>3.763426e+02</td>\n",
              "    </tr>\n",
              "    <tr>\n",
              "      <th>14</th>\n",
              "      <td>0.174707</td>\n",
              "      <td>0.003368</td>\n",
              "      <td>0.006185</td>\n",
              "      <td>0.000152</td>\n",
              "      <td>3</td>\n",
              "      <td>3</td>\n",
              "      <td>False</td>\n",
              "      <td>{'bootstrap': False, 'max_features': 3, 'n_est...</td>\n",
              "      <td>-3.171535e+09</td>\n",
              "      <td>-3.069409e+09</td>\n",
              "      <td>-3.370629e+09</td>\n",
              "      <td>-2.962659e+09</td>\n",
              "      <td>-3.074705e+09</td>\n",
              "      <td>-3.129787e+09</td>\n",
              "      <td>1.373750e+08</td>\n",
              "      <td>12</td>\n",
              "      <td>-8.243538e+00</td>\n",
              "      <td>-4.205887e+04</td>\n",
              "      <td>-0.000000e+00</td>\n",
              "      <td>-0.000000e+00</td>\n",
              "      <td>-0.000000e+00</td>\n",
              "      <td>-8.413422e+03</td>\n",
              "      <td>1.682272e+04</td>\n",
              "    </tr>\n",
              "    <tr>\n",
              "      <th>15</th>\n",
              "      <td>0.570143</td>\n",
              "      <td>0.005662</td>\n",
              "      <td>0.015562</td>\n",
              "      <td>0.000515</td>\n",
              "      <td>3</td>\n",
              "      <td>10</td>\n",
              "      <td>False</td>\n",
              "      <td>{'bootstrap': False, 'max_features': 3, 'n_est...</td>\n",
              "      <td>-2.630613e+09</td>\n",
              "      <td>-2.549271e+09</td>\n",
              "      <td>-2.792709e+09</td>\n",
              "      <td>-2.309125e+09</td>\n",
              "      <td>-2.459468e+09</td>\n",
              "      <td>-2.548237e+09</td>\n",
              "      <td>1.622394e+08</td>\n",
              "      <td>5</td>\n",
              "      <td>-7.419184e-01</td>\n",
              "      <td>-4.021879e+03</td>\n",
              "      <td>-0.000000e+00</td>\n",
              "      <td>-0.000000e+00</td>\n",
              "      <td>-0.000000e+00</td>\n",
              "      <td>-8.045242e+02</td>\n",
              "      <td>1.608677e+03</td>\n",
              "    </tr>\n",
              "    <tr>\n",
              "      <th>16</th>\n",
              "      <td>0.218043</td>\n",
              "      <td>0.001977</td>\n",
              "      <td>0.006047</td>\n",
              "      <td>0.000134</td>\n",
              "      <td>4</td>\n",
              "      <td>3</td>\n",
              "      <td>False</td>\n",
              "      <td>{'bootstrap': False, 'max_features': 4, 'n_est...</td>\n",
              "      <td>-3.402719e+09</td>\n",
              "      <td>-3.074321e+09</td>\n",
              "      <td>-3.452835e+09</td>\n",
              "      <td>-2.974698e+09</td>\n",
              "      <td>-3.032406e+09</td>\n",
              "      <td>-3.187396e+09</td>\n",
              "      <td>1.994342e+08</td>\n",
              "      <td>14</td>\n",
              "      <td>-0.000000e+00</td>\n",
              "      <td>-0.000000e+00</td>\n",
              "      <td>-0.000000e+00</td>\n",
              "      <td>-0.000000e+00</td>\n",
              "      <td>-0.000000e+00</td>\n",
              "      <td>0.000000e+00</td>\n",
              "      <td>0.000000e+00</td>\n",
              "    </tr>\n",
              "    <tr>\n",
              "      <th>17</th>\n",
              "      <td>0.709743</td>\n",
              "      <td>0.005445</td>\n",
              "      <td>0.016686</td>\n",
              "      <td>0.001324</td>\n",
              "      <td>4</td>\n",
              "      <td>10</td>\n",
              "      <td>False</td>\n",
              "      <td>{'bootstrap': False, 'max_features': 4, 'n_est...</td>\n",
              "      <td>-2.674463e+09</td>\n",
              "      <td>-2.517351e+09</td>\n",
              "      <td>-2.889700e+09</td>\n",
              "      <td>-2.361217e+09</td>\n",
              "      <td>-2.401510e+09</td>\n",
              "      <td>-2.568848e+09</td>\n",
              "      <td>1.938376e+08</td>\n",
              "      <td>6</td>\n",
              "      <td>-0.000000e+00</td>\n",
              "      <td>-0.000000e+00</td>\n",
              "      <td>-0.000000e+00</td>\n",
              "      <td>-0.000000e+00</td>\n",
              "      <td>-0.000000e+00</td>\n",
              "      <td>0.000000e+00</td>\n",
              "      <td>0.000000e+00</td>\n",
              "    </tr>\n",
              "  </tbody>\n",
              "</table>\n",
              "</div>"
            ],
            "text/plain": [
              "    mean_fit_time  std_fit_time  ...  mean_train_score  std_train_score\n",
              "0        0.088833      0.008106  ...     -9.674993e+08     2.066643e+07\n",
              "1        0.268854      0.005243  ...     -5.063137e+08     5.290898e+06\n",
              "2        0.800386      0.005825  ...     -3.823966e+08     5.018278e+06\n",
              "3        0.138379      0.003915  ...     -8.504141e+08     2.040324e+07\n",
              "4        0.445908      0.005277  ...     -4.723672e+08     1.274128e+07\n",
              "5        1.343856      0.007774  ...     -3.637348e+08     7.657929e+06\n",
              "6        0.194430      0.004802  ...     -8.712688e+08     1.273291e+07\n",
              "7        0.631098      0.012629  ...     -4.882906e+08     4.976238e+06\n",
              "8        1.889844      0.011712  ...     -3.728093e+08     4.875546e+06\n",
              "9        0.248374      0.003543  ...     -8.948615e+08     3.169344e+07\n",
              "10       0.806817      0.007128  ...     -5.068835e+08     9.287744e+06\n",
              "11       2.474528      0.040185  ...     -3.871836e+08     7.709842e+06\n",
              "12       0.132100      0.003700  ...      0.000000e+00     0.000000e+00\n",
              "13       0.412953      0.004992  ...     -1.937778e+02     3.763426e+02\n",
              "14       0.174707      0.003368  ...     -8.413422e+03     1.682272e+04\n",
              "15       0.570143      0.005662  ...     -8.045242e+02     1.608677e+03\n",
              "16       0.218043      0.001977  ...      0.000000e+00     0.000000e+00\n",
              "17       0.709743      0.005445  ...      0.000000e+00     0.000000e+00\n",
              "\n",
              "[18 rows x 23 columns]"
            ]
          },
          "metadata": {
            "tags": []
          },
          "execution_count": 69
        }
      ]
    },
    {
      "cell_type": "code",
      "metadata": {
        "id": "EcjXC4mqaTyo",
        "outputId": "bf106a24-6451-4190-f239-bc52e59f4bf7",
        "colab": {
          "base_uri": "https://localhost:8080/",
          "height": 391
        }
      },
      "source": [
        "from sklearn.model_selection import RandomizedSearchCV\n",
        "from scipy.stats import randint\n",
        "\n",
        "param_distribs = {'n_estimators':randint(low = 1 , high=200),\n",
        "                  'max_features':randint(low = 1,high =8)}\n",
        "\n",
        "forest_reg = RandomForestRegressor(random_state = 42)\n",
        "rnd_search = RandomizedSearchCV(forest_reg, param_distributions=param_distribs,\n",
        "                                n_iter=10, cv=5, scoring='neg_mean_squared_error', random_state=42)\n",
        "rnd_search.fit(X_train,y_train)\n",
        "\n"
      ],
      "execution_count": null,
      "outputs": [
        {
          "output_type": "execute_result",
          "data": {
            "text/plain": [
              "RandomizedSearchCV(cv=5, error_score=nan,\n",
              "                   estimator=RandomForestRegressor(bootstrap=True,\n",
              "                                                   ccp_alpha=0.0,\n",
              "                                                   criterion='mse',\n",
              "                                                   max_depth=None,\n",
              "                                                   max_features='auto',\n",
              "                                                   max_leaf_nodes=None,\n",
              "                                                   max_samples=None,\n",
              "                                                   min_impurity_decrease=0.0,\n",
              "                                                   min_impurity_split=None,\n",
              "                                                   min_samples_leaf=1,\n",
              "                                                   min_samples_split=2,\n",
              "                                                   min_weight_fraction_leaf=0.0,\n",
              "                                                   n_estimators=100,\n",
              "                                                   n_jobs=None, oob_score=Fals...\n",
              "                                                   warm_start=False),\n",
              "                   iid='deprecated', n_iter=10, n_jobs=None,\n",
              "                   param_distributions={'max_features': <scipy.stats._distn_infrastructure.rv_frozen object at 0x7f462450c8d0>,\n",
              "                                        'n_estimators': <scipy.stats._distn_infrastructure.rv_frozen object at 0x7f462450c7f0>},\n",
              "                   pre_dispatch='2*n_jobs', random_state=42, refit=True,\n",
              "                   return_train_score=False, scoring='neg_mean_squared_error',\n",
              "                   verbose=0)"
            ]
          },
          "metadata": {
            "tags": []
          },
          "execution_count": 74
        }
      ]
    },
    {
      "cell_type": "code",
      "metadata": {
        "id": "FO_IjR8B3uqE",
        "outputId": "04849436-eed7-4e8a-fead-a6ca2d14d154",
        "colab": {
          "base_uri": "https://localhost:8080/",
          "height": 187
        }
      },
      "source": [
        "cvres=rnd_search.cv_results_\n",
        "\n",
        "for mean_score,params in zip(cvres['mean_test_score'],cvres['params']):\n",
        "  print(np.sqrt(-mean_score),params)\n"
      ],
      "execution_count": null,
      "outputs": [
        {
          "output_type": "stream",
          "text": [
            "49329.79739957734 {'max_features': 7, 'n_estimators': 180}\n",
            "50405.41640102758 {'max_features': 5, 'n_estimators': 15}\n",
            "48118.343811936866 {'max_features': 3, 'n_estimators': 72}\n",
            "50029.7261178224 {'max_features': 5, 'n_estimators': 21}\n",
            "49471.92292662566 {'max_features': 7, 'n_estimators': 122}\n",
            "48108.58096130456 {'max_features': 3, 'n_estimators': 75}\n",
            "48036.173692724675 {'max_features': 3, 'n_estimators': 88}\n",
            "48838.792041086715 {'max_features': 5, 'n_estimators': 100}\n",
            "47848.649582679885 {'max_features': 3, 'n_estimators': 150}\n",
            "60878.1671406126 {'max_features': 5, 'n_estimators': 2}\n"
          ],
          "name": "stdout"
        }
      ]
    },
    {
      "cell_type": "code",
      "metadata": {
        "id": "JYIu-DeQ7AdK",
        "outputId": "eaef1ee3-d51d-44f8-c7ec-16b11d57d0bd",
        "colab": {
          "base_uri": "https://localhost:8080/",
          "height": 51
        }
      },
      "source": [
        "feature_importances = grid_search.best_estimator_.feature_importances_\n",
        "print(feature_importances)"
      ],
      "execution_count": null,
      "outputs": [
        {
          "output_type": "stream",
          "text": [
            "[0.0937832  0.14395448 0.04359033 0.0343573  0.09049159 0.03635547\n",
            " 0.03007025 0.43966574 0.08773163]\n"
          ],
          "name": "stdout"
        }
      ]
    },
    {
      "cell_type": "code",
      "metadata": {
        "id": "jVmPOkKh7SQN",
        "outputId": "c1046a35-a6d9-451e-c78a-0ee41fa956ea",
        "colab": {
          "base_uri": "https://localhost:8080/",
          "height": 170
        }
      },
      "source": [
        "sorted(zip(feature_importances, cols), reverse=True)"
      ],
      "execution_count": null,
      "outputs": [
        {
          "output_type": "execute_result",
          "data": {
            "text/plain": [
              "[(0.4396657410644396, 'median_income'),\n",
              " (0.14395447755417065, 'latitude'),\n",
              " (0.09378320249941824, 'longitude'),\n",
              " (0.09049159459637912, 'total_bedrooms'),\n",
              " (0.0877316260060284, 'ocean_proximity'),\n",
              " (0.043590332617437354, 'housing_median_age'),\n",
              " (0.036355472384263884, 'population'),\n",
              " (0.03435730024905066, 'total_rooms'),\n",
              " (0.030070253028812128, 'households')]"
            ]
          },
          "metadata": {
            "tags": []
          },
          "execution_count": 79
        }
      ]
    },
    {
      "cell_type": "code",
      "metadata": {
        "id": "ngBHCieU7tQQ",
        "outputId": "0ccfd12a-c0f7-40ae-bf49-ad156cae496c",
        "colab": {
          "base_uri": "https://localhost:8080/",
          "height": 34
        }
      },
      "source": [
        "final_model = grid_search.best_estimator_\n",
        "final_prediction = final_model.predict(X_test)\n",
        "final_mse = mean_squared_error(y_test,final_prediction)\n",
        "final_rmse = np.sqrt(final_mse)\n",
        "print(final_rmse)"
      ],
      "execution_count": null,
      "outputs": [
        {
          "output_type": "stream",
          "text": [
            "46616.09508997498\n"
          ],
          "name": "stdout"
        }
      ]
    },
    {
      "cell_type": "code",
      "metadata": {
        "id": "3kkct9ZW8ITb",
        "outputId": "eb74d2a1-108c-40f6-82d2-997dc006bce0",
        "colab": {
          "base_uri": "https://localhost:8080/",
          "height": 34
        }
      },
      "source": [
        "# we can compute a 95% confidence interval\n",
        "\n",
        "from scipy import stats \n",
        "confidence = 0.95\n",
        "squared_errors=(final_prediction - y_test)**2\n",
        "np.sqrt(stats.t.interval(confidence,len(squared_errors)-1,loc=squared_errors.mean(),scale = stats.sem(squared_errors)))"
      ],
      "execution_count": null,
      "outputs": [
        {
          "output_type": "execute_result",
          "data": {
            "text/plain": [
              "array([44440.19228753, 48694.86576963])"
            ]
          },
          "metadata": {
            "tags": []
          },
          "execution_count": 83
        }
      ]
    },
    {
      "cell_type": "code",
      "metadata": {
        "id": "IHe-FX-z992H"
      },
      "source": [
        ""
      ],
      "execution_count": null,
      "outputs": []
    }
  ]
}