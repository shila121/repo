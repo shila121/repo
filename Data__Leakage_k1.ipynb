{
  "nbformat": 4,
  "nbformat_minor": 0,
  "metadata": {
    "colab": {
      "provenance": [],
      "authorship_tag": "ABX9TyO9mw2MQbgeq6Bl8qtn1X70",
      "include_colab_link": true
    },
    "kernelspec": {
      "name": "python3",
      "display_name": "Python 3"
    },
    "language_info": {
      "name": "python"
    }
  },
  "cells": [
    {
      "cell_type": "markdown",
      "metadata": {
        "id": "view-in-github",
        "colab_type": "text"
      },
      "source": [
        "<a href=\"https://colab.research.google.com/github/shila121/repo/blob/main/Data__Leakage_k1.ipynb\" target=\"_parent\"><img src=\"https://colab.research.google.com/assets/colab-badge.svg\" alt=\"Open In Colab\"/></a>"
      ]
    },
    {
      "cell_type": "code",
      "execution_count": null,
      "metadata": {
        "id": "0HdVCN_dgfFB"
      },
      "outputs": [],
      "source": []
    },
    {
      "cell_type": "markdown",
      "source": [
        "# Leakage\n",
        "There are two main types of leakage: \n",
        "1.   target leakage \n",
        "2.   train-test contamination.\n",
        "\n"
      ],
      "metadata": {
        "id": "-lK012er02Pj"
      }
    },
    {
      "cell_type": "code",
      "source": [
        "# target leakage \n",
        "# occurs when your predictors include data that will not be available at the time you make predictions. \n",
        "# \n",
        "# train test leakage\n",
        "# A different type of leak occurs when you aren't careful to distinguish training data from validation data.\n",
        "# Recall that validation is meant to be a measure of how the model does on data that \n",
        "# it hasn't considered before. You can corrupt this process in subtle ways if the validation\n",
        "#  data affects the preprocessing behavior. This is sometimes called train-test contamination"
      ],
      "metadata": {
        "id": "aH72PXm91TbB"
      },
      "execution_count": 1,
      "outputs": []
    },
    {
      "cell_type": "code",
      "source": [
        "import pandas as pd\n",
        "\n",
        "# Read the data\n",
        "data = pd.read_csv('AER_credit_card_data.csv', \n",
        "                   true_values = ['yes'], false_values = ['no'])\n",
        "\n",
        "# Select target\n",
        "y = data.card\n",
        "\n",
        "# Select predictors\n",
        "X = data.drop(['card'], axis=1)\n",
        "\n",
        "print(\"Number of rows in the dataset:\", X.shape[0])\n",
        "X.head()"
      ],
      "metadata": {
        "colab": {
          "base_uri": "https://localhost:8080/",
          "height": 224
        },
        "id": "RwiHzKCH4VHj",
        "outputId": "73524d1c-3078-49de-948d-7ece9cf2bbab"
      },
      "execution_count": 2,
      "outputs": [
        {
          "output_type": "stream",
          "name": "stdout",
          "text": [
            "Number of rows in the dataset: 1319\n"
          ]
        },
        {
          "output_type": "execute_result",
          "data": {
            "text/plain": [
              "   reports       age  income     share  expenditure  owner  selfemp  \\\n",
              "0        0  37.66667  4.5200  0.033270   124.983300   True    False   \n",
              "1        0  33.25000  2.4200  0.005217     9.854167  False    False   \n",
              "2        0  33.66667  4.5000  0.004156    15.000000   True    False   \n",
              "3        0  30.50000  2.5400  0.065214   137.869200  False    False   \n",
              "4        0  32.16667  9.7867  0.067051   546.503300   True    False   \n",
              "\n",
              "   dependents  months  majorcards  active  \n",
              "0           3      54           1      12  \n",
              "1           3      34           1      13  \n",
              "2           4      58           1       5  \n",
              "3           0      25           1       7  \n",
              "4           2      64           1       5  "
            ],
            "text/html": [
              "\n",
              "  <div id=\"df-e1ff2ad1-dc53-44a0-8c93-3e966177e1e4\">\n",
              "    <div class=\"colab-df-container\">\n",
              "      <div>\n",
              "<style scoped>\n",
              "    .dataframe tbody tr th:only-of-type {\n",
              "        vertical-align: middle;\n",
              "    }\n",
              "\n",
              "    .dataframe tbody tr th {\n",
              "        vertical-align: top;\n",
              "    }\n",
              "\n",
              "    .dataframe thead th {\n",
              "        text-align: right;\n",
              "    }\n",
              "</style>\n",
              "<table border=\"1\" class=\"dataframe\">\n",
              "  <thead>\n",
              "    <tr style=\"text-align: right;\">\n",
              "      <th></th>\n",
              "      <th>reports</th>\n",
              "      <th>age</th>\n",
              "      <th>income</th>\n",
              "      <th>share</th>\n",
              "      <th>expenditure</th>\n",
              "      <th>owner</th>\n",
              "      <th>selfemp</th>\n",
              "      <th>dependents</th>\n",
              "      <th>months</th>\n",
              "      <th>majorcards</th>\n",
              "      <th>active</th>\n",
              "    </tr>\n",
              "  </thead>\n",
              "  <tbody>\n",
              "    <tr>\n",
              "      <th>0</th>\n",
              "      <td>0</td>\n",
              "      <td>37.66667</td>\n",
              "      <td>4.5200</td>\n",
              "      <td>0.033270</td>\n",
              "      <td>124.983300</td>\n",
              "      <td>True</td>\n",
              "      <td>False</td>\n",
              "      <td>3</td>\n",
              "      <td>54</td>\n",
              "      <td>1</td>\n",
              "      <td>12</td>\n",
              "    </tr>\n",
              "    <tr>\n",
              "      <th>1</th>\n",
              "      <td>0</td>\n",
              "      <td>33.25000</td>\n",
              "      <td>2.4200</td>\n",
              "      <td>0.005217</td>\n",
              "      <td>9.854167</td>\n",
              "      <td>False</td>\n",
              "      <td>False</td>\n",
              "      <td>3</td>\n",
              "      <td>34</td>\n",
              "      <td>1</td>\n",
              "      <td>13</td>\n",
              "    </tr>\n",
              "    <tr>\n",
              "      <th>2</th>\n",
              "      <td>0</td>\n",
              "      <td>33.66667</td>\n",
              "      <td>4.5000</td>\n",
              "      <td>0.004156</td>\n",
              "      <td>15.000000</td>\n",
              "      <td>True</td>\n",
              "      <td>False</td>\n",
              "      <td>4</td>\n",
              "      <td>58</td>\n",
              "      <td>1</td>\n",
              "      <td>5</td>\n",
              "    </tr>\n",
              "    <tr>\n",
              "      <th>3</th>\n",
              "      <td>0</td>\n",
              "      <td>30.50000</td>\n",
              "      <td>2.5400</td>\n",
              "      <td>0.065214</td>\n",
              "      <td>137.869200</td>\n",
              "      <td>False</td>\n",
              "      <td>False</td>\n",
              "      <td>0</td>\n",
              "      <td>25</td>\n",
              "      <td>1</td>\n",
              "      <td>7</td>\n",
              "    </tr>\n",
              "    <tr>\n",
              "      <th>4</th>\n",
              "      <td>0</td>\n",
              "      <td>32.16667</td>\n",
              "      <td>9.7867</td>\n",
              "      <td>0.067051</td>\n",
              "      <td>546.503300</td>\n",
              "      <td>True</td>\n",
              "      <td>False</td>\n",
              "      <td>2</td>\n",
              "      <td>64</td>\n",
              "      <td>1</td>\n",
              "      <td>5</td>\n",
              "    </tr>\n",
              "  </tbody>\n",
              "</table>\n",
              "</div>\n",
              "      <button class=\"colab-df-convert\" onclick=\"convertToInteractive('df-e1ff2ad1-dc53-44a0-8c93-3e966177e1e4')\"\n",
              "              title=\"Convert this dataframe to an interactive table.\"\n",
              "              style=\"display:none;\">\n",
              "        \n",
              "  <svg xmlns=\"http://www.w3.org/2000/svg\" height=\"24px\"viewBox=\"0 0 24 24\"\n",
              "       width=\"24px\">\n",
              "    <path d=\"M0 0h24v24H0V0z\" fill=\"none\"/>\n",
              "    <path d=\"M18.56 5.44l.94 2.06.94-2.06 2.06-.94-2.06-.94-.94-2.06-.94 2.06-2.06.94zm-11 1L8.5 8.5l.94-2.06 2.06-.94-2.06-.94L8.5 2.5l-.94 2.06-2.06.94zm10 10l.94 2.06.94-2.06 2.06-.94-2.06-.94-.94-2.06-.94 2.06-2.06.94z\"/><path d=\"M17.41 7.96l-1.37-1.37c-.4-.4-.92-.59-1.43-.59-.52 0-1.04.2-1.43.59L10.3 9.45l-7.72 7.72c-.78.78-.78 2.05 0 2.83L4 21.41c.39.39.9.59 1.41.59.51 0 1.02-.2 1.41-.59l7.78-7.78 2.81-2.81c.8-.78.8-2.07 0-2.86zM5.41 20L4 18.59l7.72-7.72 1.47 1.35L5.41 20z\"/>\n",
              "  </svg>\n",
              "      </button>\n",
              "      \n",
              "  <style>\n",
              "    .colab-df-container {\n",
              "      display:flex;\n",
              "      flex-wrap:wrap;\n",
              "      gap: 12px;\n",
              "    }\n",
              "\n",
              "    .colab-df-convert {\n",
              "      background-color: #E8F0FE;\n",
              "      border: none;\n",
              "      border-radius: 50%;\n",
              "      cursor: pointer;\n",
              "      display: none;\n",
              "      fill: #1967D2;\n",
              "      height: 32px;\n",
              "      padding: 0 0 0 0;\n",
              "      width: 32px;\n",
              "    }\n",
              "\n",
              "    .colab-df-convert:hover {\n",
              "      background-color: #E2EBFA;\n",
              "      box-shadow: 0px 1px 2px rgba(60, 64, 67, 0.3), 0px 1px 3px 1px rgba(60, 64, 67, 0.15);\n",
              "      fill: #174EA6;\n",
              "    }\n",
              "\n",
              "    [theme=dark] .colab-df-convert {\n",
              "      background-color: #3B4455;\n",
              "      fill: #D2E3FC;\n",
              "    }\n",
              "\n",
              "    [theme=dark] .colab-df-convert:hover {\n",
              "      background-color: #434B5C;\n",
              "      box-shadow: 0px 1px 3px 1px rgba(0, 0, 0, 0.15);\n",
              "      filter: drop-shadow(0px 1px 2px rgba(0, 0, 0, 0.3));\n",
              "      fill: #FFFFFF;\n",
              "    }\n",
              "  </style>\n",
              "\n",
              "      <script>\n",
              "        const buttonEl =\n",
              "          document.querySelector('#df-e1ff2ad1-dc53-44a0-8c93-3e966177e1e4 button.colab-df-convert');\n",
              "        buttonEl.style.display =\n",
              "          google.colab.kernel.accessAllowed ? 'block' : 'none';\n",
              "\n",
              "        async function convertToInteractive(key) {\n",
              "          const element = document.querySelector('#df-e1ff2ad1-dc53-44a0-8c93-3e966177e1e4');\n",
              "          const dataTable =\n",
              "            await google.colab.kernel.invokeFunction('convertToInteractive',\n",
              "                                                     [key], {});\n",
              "          if (!dataTable) return;\n",
              "\n",
              "          const docLinkHtml = 'Like what you see? Visit the ' +\n",
              "            '<a target=\"_blank\" href=https://colab.research.google.com/notebooks/data_table.ipynb>data table notebook</a>'\n",
              "            + ' to learn more about interactive tables.';\n",
              "          element.innerHTML = '';\n",
              "          dataTable['output_type'] = 'display_data';\n",
              "          await google.colab.output.renderOutput(dataTable, element);\n",
              "          const docLink = document.createElement('div');\n",
              "          docLink.innerHTML = docLinkHtml;\n",
              "          element.appendChild(docLink);\n",
              "        }\n",
              "      </script>\n",
              "    </div>\n",
              "  </div>\n",
              "  "
            ]
          },
          "metadata": {},
          "execution_count": 2
        }
      ]
    },
    {
      "cell_type": "code",
      "source": [
        "from sklearn.pipeline import make_pipeline\n",
        "from sklearn.ensemble import RandomForestClassifier\n",
        "from sklearn.model_selection import cross_val_score\n",
        "\n",
        "# Since there is no preprocessing, we don't need a pipeline (used anyway as best practice!)\n",
        "my_pipeline = make_pipeline(RandomForestClassifier(n_estimators=100))\n",
        "cv_scores = cross_val_score(my_pipeline, X, y, \n",
        "                            cv=5,\n",
        "                            scoring='accuracy')\n",
        "\n",
        "print(\"Cross-validation accuracy: %f\" % cv_scores.mean())"
      ],
      "metadata": {
        "colab": {
          "base_uri": "https://localhost:8080/"
        },
        "id": "8H6-xs9u5BmA",
        "outputId": "536d2474-85c2-4394-f718-812e1a395aec"
      },
      "execution_count": 3,
      "outputs": [
        {
          "output_type": "stream",
          "name": "stdout",
          "text": [
            "Cross-validation accuracy: 0.980294\n"
          ]
        }
      ]
    },
    {
      "cell_type": "code",
      "source": [
        "expenditures_cardholders = X.expenditure[y]\n",
        "expenditures_noncardholders = X.expenditure[~y]\n",
        "\n",
        "print('Fraction of those who did not receive a card and had no expenditures: %.2f' \\\n",
        "      %((expenditures_noncardholders == 0).mean()))\n",
        "print('Fraction of those who received a card and had no expenditures: %.2f' \\\n",
        "      %(( expenditures_cardholders == 0).mean()))"
      ],
      "metadata": {
        "colab": {
          "base_uri": "https://localhost:8080/"
        },
        "id": "C0I7SfiY5G2P",
        "outputId": "936c40ba-4fc8-4410-f432-4a64d7337eaf"
      },
      "execution_count": 4,
      "outputs": [
        {
          "output_type": "stream",
          "name": "stdout",
          "text": [
            "Fraction of those who did not receive a card and had no expenditures: 1.00\n",
            "Fraction of those who received a card and had no expenditures: 0.02\n"
          ]
        }
      ]
    },
    {
      "cell_type": "code",
      "source": [
        "# Drop leaky predictors from dataset\n",
        "potential_leaks = ['expenditure', 'share', 'active', 'majorcards']\n",
        "X2 = X.drop(potential_leaks, axis=1)\n",
        "\n",
        "# Evaluate the model with leaky predictors removed\n",
        "cv_scores = cross_val_score(my_pipeline, X2, y, \n",
        "                            cv=5,\n",
        "                            scoring='accuracy')\n",
        "\n",
        "print(\"Cross-val accuracy: %f\" % cv_scores.mean())"
      ],
      "metadata": {
        "colab": {
          "base_uri": "https://localhost:8080/"
        },
        "id": "bXahBz7F5Mh0",
        "outputId": "a72ac5ac-174f-42d0-93e5-e0daf22a2d90"
      },
      "execution_count": 5,
      "outputs": [
        {
          "output_type": "stream",
          "name": "stdout",
          "text": [
            "Cross-val accuracy: 0.834713\n"
          ]
        }
      ]
    },
    {
      "cell_type": "code",
      "source": [],
      "metadata": {
        "id": "XzzwbZeD5QdJ"
      },
      "execution_count": null,
      "outputs": []
    }
  ]
}